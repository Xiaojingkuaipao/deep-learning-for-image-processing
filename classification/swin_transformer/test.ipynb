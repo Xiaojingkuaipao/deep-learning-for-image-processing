{
 "cells": [
  {
   "cell_type": "code",
   "id": "initial_id",
   "metadata": {
    "collapsed": true,
    "ExecuteTime": {
     "end_time": "2025-04-21T03:30:58.970697Z",
     "start_time": "2025-04-21T03:30:58.963699Z"
    }
   },
   "source": [
    "import torch\n",
    "\n",
    "s = slice(0, -2)"
   ],
   "outputs": [],
   "execution_count": 12
  },
  {
   "metadata": {
    "ExecuteTime": {
     "end_time": "2025-04-21T03:30:59.586677Z",
     "start_time": "2025-04-21T03:30:59.579584Z"
    }
   },
   "cell_type": "code",
   "source": "x = torch.rand(3, 3)",
   "id": "5a5dad6ae5e5ac75",
   "outputs": [],
   "execution_count": 13
  },
  {
   "metadata": {
    "ExecuteTime": {
     "end_time": "2025-04-21T03:31:00.056350Z",
     "start_time": "2025-04-21T03:31:00.048136Z"
    }
   },
   "cell_type": "code",
   "source": "x[s].shape",
   "id": "69e3e0546220e5be",
   "outputs": [
    {
     "data": {
      "text/plain": [
       "torch.Size([1, 3])"
      ]
     },
     "execution_count": 14,
     "metadata": {},
     "output_type": "execute_result"
    }
   ],
   "execution_count": 14
  },
  {
   "metadata": {},
   "cell_type": "code",
   "outputs": [],
   "execution_count": null,
   "source": "",
   "id": "d4917198354228ca"
  }
 ],
 "metadata": {
  "kernelspec": {
   "display_name": "Python 3",
   "language": "python",
   "name": "python3"
  },
  "language_info": {
   "codemirror_mode": {
    "name": "ipython",
    "version": 2
   },
   "file_extension": ".py",
   "mimetype": "text/x-python",
   "name": "python",
   "nbconvert_exporter": "python",
   "pygments_lexer": "ipython2",
   "version": "2.7.6"
  }
 },
 "nbformat": 4,
 "nbformat_minor": 5
}
