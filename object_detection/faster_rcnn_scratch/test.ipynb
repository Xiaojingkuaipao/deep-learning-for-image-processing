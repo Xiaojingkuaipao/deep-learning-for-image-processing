{
 "cells": [
  {
   "cell_type": "code",
   "id": "initial_id",
   "metadata": {
    "collapsed": true,
    "ExecuteTime": {
     "end_time": "2025-04-16T07:15:51.403077Z",
     "start_time": "2025-04-16T07:15:51.370389Z"
    }
   },
   "source": [
    "import torch\n",
    "\n",
    "X = torch.rand((3,2,2), dtype=torch.float32, device='cuda')\n",
    "X, X.flip(-1)"
   ],
   "outputs": [
    {
     "data": {
      "text/plain": [
       "(tensor([[[0.9963, 0.6379],\n",
       "          [0.2646, 0.5207]],\n",
       " \n",
       "         [[0.4713, 0.9111],\n",
       "          [0.8020, 0.6314]],\n",
       " \n",
       "         [[0.3096, 0.2052],\n",
       "          [0.2757, 0.9395]]], device='cuda:0'),\n",
       " tensor([[[0.6379, 0.9963],\n",
       "          [0.5207, 0.2646]],\n",
       " \n",
       "         [[0.9111, 0.4713],\n",
       "          [0.6314, 0.8020]],\n",
       " \n",
       "         [[0.2052, 0.3096],\n",
       "          [0.9395, 0.2757]]], device='cuda:0'))"
      ]
     },
     "execution_count": 3,
     "metadata": {},
     "output_type": "execute_result"
    }
   ],
   "execution_count": 3
  }
 ],
 "metadata": {
  "kernelspec": {
   "display_name": "Python 3",
   "language": "python",
   "name": "python3"
  },
  "language_info": {
   "codemirror_mode": {
    "name": "ipython",
    "version": 2
   },
   "file_extension": ".py",
   "mimetype": "text/x-python",
   "name": "python",
   "nbconvert_exporter": "python",
   "pygments_lexer": "ipython2",
   "version": "2.7.6"
  }
 },
 "nbformat": 4,
 "nbformat_minor": 5
}
