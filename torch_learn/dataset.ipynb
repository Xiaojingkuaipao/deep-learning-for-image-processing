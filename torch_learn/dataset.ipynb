{
 "cells": [
  {
   "cell_type": "markdown",
   "id": "9d44eb2c",
   "metadata": {},
   "source": [
    "## 简单学习Dataset\n",
    "\n",
    "- Dataset是pytorch中训练模型的所有数据集的父类，所有的数据集都要继承Dataset这个类，\n",
    "- 在自定义数据集的时候，需要重写`__getitem__`以及`__len__`方法\n",
    "- 现在数据集是flower_photo数据集"
   ]
  },
  {
   "cell_type": "code",
   "execution_count": null,
   "id": "d4ada01a",
   "metadata": {},
   "outputs": [],
   "source": [
    "import torch\n",
    "from torch.utils.data import Dataset\n",
    "from PIL import Image\n",
    "import os\n",
    "\n",
    "class ClassifyDataset(Dataset):\n",
    "    \"\"\"\n",
    "    数据分类数据集\n",
    "    Args:\n",
    "        root_dir: 图片数据集的根目录\n",
    "        transform: 可选的数据增强或预处理操作\n",
    "    \"\"\"\n",
    "    def __init__(self, root_dir: str, transform=None):\n",
    "        super().__init__()\n",
    "        self.root_dir = root_dir\n",
    "        self.transform = transform\n",
    "        \n",
    "        # 获取所有类别（文件夹名）\n",
    "        self.classes = sorted(os.listdir(root_dir))\n",
    "        self.class_to_idx = {cls_name: idx for idx, cls_name in enumerate(self.classes)}\n",
    "        \n",
    "        # 收集所有图片路径及其对应的类别索引\n",
    "        self.image_paths = []\n",
    "        self.labels = []\n",
    "        for cls_name in self.classes:\n",
    "            cls_dir = os.path.join(root_dir, cls_name)\n",
    "            if not os.path.isdir(cls_dir):  # 确保是文件夹\n",
    "                continue\n",
    "            for img_name in os.listdir(cls_dir):\n",
    "                img_path = os.path.join(cls_dir, img_name)\n",
    "                self.image_paths.append(img_path)\n",
    "                self.labels.append(self.class_to_idx[cls_name])\n",
    "\n",
    "    def __len__(self):\n",
    "        \"\"\"返回数据集的大小\"\"\"\n",
    "        return len(self.image_paths)\n",
    "\n",
    "    def __getitem__(self, index):\n",
    "        \"\"\"\n",
    "        根据索引获取单个样本\n",
    "        Args:\n",
    "            index: 样本索引\n",
    "        Returns:\n",
    "            image: PIL.Image 或 Tensor，图片数据\n",
    "            label: int，类别索引\n",
    "        \"\"\"\n",
    "        # 加载图片\n",
    "        img_path = self.image_paths[index]\n",
    "        label = self.labels[index]\n",
    "        image = Image.open(img_path).convert(\"RGB\")  # 确保图片是 RGB 格式\n",
    "\n",
    "        # 应用数据变换（如数据增强、归一化等）\n",
    "        if self.transform is not None:\n",
    "            image = self.transform(image)\n",
    "\n",
    "        return image, label"
   ]
  }
 ],
 "metadata": {
  "kernelspec": {
   "display_name": "yolov8",
   "language": "python",
   "name": "python3"
  },
  "language_info": {
   "name": "python",
   "version": "3.10.16"
  }
 },
 "nbformat": 4,
 "nbformat_minor": 5
}
